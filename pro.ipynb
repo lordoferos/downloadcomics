{
 "metadata": {
  "language_info": {
   "codemirror_mode": {
    "name": "ipython",
    "version": 3
   },
   "file_extension": ".py",
   "mimetype": "text/x-python",
   "name": "python",
   "nbconvert_exporter": "python",
   "pygments_lexer": "ipython3",
   "version": "3.7.6-final"
  },
  "orig_nbformat": 2,
  "kernelspec": {
   "name": "python_defaultSpec_1597766526725",
   "display_name": "Python 3.7.6 64-bit ('base': conda)"
  }
 },
 "nbformat": 4,
 "nbformat_minor": 2,
 "cells": [
  {
   "cell_type": "code",
   "execution_count": 1,
   "metadata": {},
   "outputs": [],
   "source": [
    "def decorated_by(func):\n",
    "    func.__doc__ += '\\nDecorated by decorated_by.'\n",
    "    return func"
   ]
  },
  {
   "cell_type": "code",
   "execution_count": 2,
   "metadata": {},
   "outputs": [],
   "source": [
    "def add(x, y):\n",
    "    \"\"\"Return the sum of x and y.\"\"\"\n",
    "    return x + y"
   ]
  },
  {
   "cell_type": "code",
   "execution_count": 3,
   "metadata": {},
   "outputs": [],
   "source": [
    "add = decorated_by(add)"
   ]
  },
  {
   "cell_type": "code",
   "execution_count": 6,
   "metadata": {
    "tags": []
   },
   "outputs": [
    {
     "output_type": "stream",
     "name": "stdout",
     "text": "Help on function add in module __main__:\n\nadd(x, y)\n    Return the sum of x and y.\n    Decorated by decorated_by.\n\n"
    }
   ],
   "source": [
    "help(add)"
   ]
  },
  {
   "cell_type": "code",
   "execution_count": 5,
   "metadata": {},
   "outputs": [],
   "source": [
    "@decorated_by\n",
    "def add(x, y):\n",
    "    \"\"\"Return the sum of x and y.\"\"\"\n",
    "    return x + y"
   ]
  },
  {
   "cell_type": "code",
   "execution_count": 7,
   "metadata": {},
   "outputs": [
    {
     "output_type": "error",
     "ename": "NameError",
     "evalue": "name 'also_decorated_by' is not defined",
     "traceback": [
      "\u001b[1;31m---------------------------------------------------------------------------\u001b[0m",
      "\u001b[1;31mNameError\u001b[0m                                 Traceback (most recent call last)",
      "\u001b[1;32m<ipython-input-7-a5c6651ef971>\u001b[0m in \u001b[0;36m<module>\u001b[1;34m\u001b[0m\n\u001b[1;32m----> 1\u001b[1;33m \u001b[1;33m@\u001b[0m\u001b[0malso_decorated_by\u001b[0m\u001b[1;33m\u001b[0m\u001b[1;33m\u001b[0m\u001b[0m\n\u001b[0m\u001b[0;32m      2\u001b[0m \u001b[1;33m@\u001b[0m\u001b[0mdecorated_by\u001b[0m\u001b[1;33m\u001b[0m\u001b[1;33m\u001b[0m\u001b[0m\n\u001b[0;32m      3\u001b[0m \u001b[1;32mdef\u001b[0m \u001b[0madd\u001b[0m\u001b[1;33m(\u001b[0m\u001b[0mx\u001b[0m\u001b[1;33m,\u001b[0m \u001b[0my\u001b[0m\u001b[1;33m)\u001b[0m\u001b[1;33m:\u001b[0m\u001b[1;33m\u001b[0m\u001b[1;33m\u001b[0m\u001b[0m\n\u001b[0;32m      4\u001b[0m     \u001b[1;34m\"\"\"Return the sum of x and y.\"\"\"\u001b[0m\u001b[1;33m\u001b[0m\u001b[1;33m\u001b[0m\u001b[0m\n\u001b[0;32m      5\u001b[0m     \u001b[1;32mreturn\u001b[0m \u001b[0mx\u001b[0m \u001b[1;33m+\u001b[0m \u001b[0my\u001b[0m\u001b[1;33m\u001b[0m\u001b[1;33m\u001b[0m\u001b[0m\n",
      "\u001b[1;31mNameError\u001b[0m: name 'also_decorated_by' is not defined"
     ]
    }
   ],
   "source": [
    "@also_decorated_by\n",
    "@decorated_by\n",
    "def add(x, y):\n",
    "    \"\"\"Return the sum of x and y.\"\"\"\n",
    "    return x + y\n"
   ]
  },
  {
   "cell_type": "code",
   "execution_count": 8,
   "metadata": {},
   "outputs": [],
   "source": [
    "registry = []\n",
    "def register(decorated):\n",
    "    registry.append(decorated)\n",
    "    return decorated"
   ]
  },
  {
   "cell_type": "code",
   "execution_count": 9,
   "metadata": {},
   "outputs": [],
   "source": [
    "@register\n",
    "def foo():\n",
    "    return 3"
   ]
  },
  {
   "cell_type": "code",
   "execution_count": 10,
   "metadata": {},
   "outputs": [],
   "source": [
    "@register\n",
    "def bar():\n",
    "    return 5"
   ]
  },
  {
   "cell_type": "code",
   "execution_count": 11,
   "metadata": {},
   "outputs": [
    {
     "output_type": "execute_result",
     "data": {
      "text/plain": "5"
     },
     "metadata": {},
     "execution_count": 11
    }
   ],
   "source": [
    "bar()"
   ]
  },
  {
   "cell_type": "code",
   "execution_count": 12,
   "metadata": {},
   "outputs": [],
   "source": [
    "answers = []\n",
    "for func in registry:\n",
    "    answers.append(func())"
   ]
  },
  {
   "cell_type": "code",
   "execution_count": 13,
   "metadata": {},
   "outputs": [
    {
     "output_type": "execute_result",
     "data": {
      "text/plain": "[3, 5]"
     },
     "metadata": {},
     "execution_count": 13
    }
   ],
   "source": [
    "answers"
   ]
  },
  {
   "cell_type": "code",
   "execution_count": 14,
   "metadata": {},
   "outputs": [],
   "source": [
    "class Registry(object):\n",
    "    def __init__(self):\n",
    "        self.__functions = []\n",
    "    def register(self, decorated):\n",
    "        self.__functions.append(decorated)\n",
    "        return decorated\n",
    "\n",
    "    def run_all(self, *args, **kwargs):\n",
    "        return_values = []\n",
    "        for func in self.__functions:\n",
    "            return_values.append(func(*args, **kwargs))\n",
    "        return return_values"
   ]
  },
  {
   "cell_type": "code",
   "execution_count": 15,
   "metadata": {},
   "outputs": [],
   "source": [
    "a = Registry()\n",
    "b = Registry()"
   ]
  },
  {
   "cell_type": "code",
   "execution_count": 18,
   "metadata": {},
   "outputs": [],
   "source": [
    "@a.register\n",
    "def foo(x=3):\n",
    "    return x"
   ]
  },
  {
   "cell_type": "code",
   "execution_count": 24,
   "metadata": {},
   "outputs": [],
   "source": [
    "@b.register\n",
    "def bar(x=5):\n",
    "    return x"
   ]
  },
  {
   "cell_type": "code",
   "execution_count": 21,
   "metadata": {},
   "outputs": [],
   "source": [
    "@a.register\n",
    "@b.register\n",
    "def baz(x=7):\n",
    "    return x"
   ]
  },
  {
   "cell_type": "code",
   "execution_count": 22,
   "metadata": {},
   "outputs": [
    {
     "output_type": "execute_result",
     "data": {
      "text/plain": "[3, 7]"
     },
     "metadata": {},
     "execution_count": 22
    }
   ],
   "source": [
    "a.run_all()"
   ]
  },
  {
   "cell_type": "code",
   "execution_count": 25,
   "metadata": {},
   "outputs": [
    {
     "output_type": "execute_result",
     "data": {
      "text/plain": "[7, 5]"
     },
     "metadata": {},
     "execution_count": 25
    }
   ],
   "source": [
    "b.run_all()"
   ]
  },
  {
   "cell_type": "code",
   "execution_count": 27,
   "metadata": {},
   "outputs": [
    {
     "output_type": "execute_result",
     "data": {
      "text/plain": "[4, 4]"
     },
     "metadata": {},
     "execution_count": 27
    }
   ],
   "source": [
    "a.run_all(4)"
   ]
  },
  {
   "cell_type": "code",
   "execution_count": 28,
   "metadata": {},
   "outputs": [],
   "source": [
    "def requires_ints(decorated):\n",
    "    def inner(*args, **kwargs):\n",
    "        # Get any values that may have been sent as keyword arguments.\n",
    "        kwarg_values = [i for i in kwarg_values()]\n",
    "\n",
    "        # Iterate over every value sent to the decorated method,\n",
    "        # and ensure that each one is an integer; raise TypeError if not\n",
    "        for arg in list(args) + kwarg_values:\n",
    "            if not isinstance(arg, int):\n",
    "                raise TypeError('%s only accepts integers as arguments.' % decorated.__name)\n",
    "        # Run the decorated method, and return the result\n",
    "        return decorated(*args, **kwargs)\n",
    "    return inner"
   ]
  },
  {
   "cell_type": "code",
   "execution_count": 29,
   "metadata": {},
   "outputs": [],
   "source": [
    "@requires_ints\n",
    "def foo(x, y):\n",
    "    \"\"\"Return the sum of x and y.\"\"\"\n",
    "    return x + y\n"
   ]
  },
  {
   "cell_type": "code",
   "execution_count": 30,
   "metadata": {
    "tags": []
   },
   "outputs": [
    {
     "output_type": "stream",
     "name": "stdout",
     "text": "Help on function inner in module __main__:\n\ninner(*args, **kwargs)\n\n"
    }
   ],
   "source": [
    "help(foo)"
   ]
  },
  {
   "cell_type": "code",
   "execution_count": 31,
   "metadata": {},
   "outputs": [],
   "source": [
    "import functools\n",
    "\n",
    "def requires_ints(decorated):\n",
    "    @functools.wraps(decorated)\n",
    "    def inner(*args, **kwargs):\n",
    "        # Get any values that may have been sent as keyword args.\n",
    "        kwarg_values = [i for i in kwarg_values()]\n",
    "\n",
    "        # Iterate over every value sent to the decorated method, and\n",
    "        # ensure that each one is an integer; raise TypeError if not\n",
    "        for arg in args + kwarg_values:\n",
    "            if not isinstance(i, int):\n",
    "                raise TypeError('%s only accepts integers as arguments.' % decorated.__name__)\n",
    "\n",
    "        # Run the decorated method, and return the result. \n",
    "        return decorated(*args, **kwargs)\n",
    "    return inner"
   ]
  },
  {
   "cell_type": "code",
   "execution_count": 32,
   "metadata": {},
   "outputs": [],
   "source": [
    "@requires_ints\n",
    "def foo(x, y):\n",
    "    \"\"\"Return the sum of x and y.\"\"\"\n",
    "    return x + y"
   ]
  },
  {
   "cell_type": "code",
   "execution_count": 33,
   "metadata": {
    "tags": []
   },
   "outputs": [
    {
     "output_type": "stream",
     "name": "stdout",
     "text": "Help on function foo in module __main__:\n\nfoo(x, y)\n    Return the sum of x and y.\n\n"
    }
   ],
   "source": [
    "help(foo)"
   ]
  },
  {
   "cell_type": "code",
   "execution_count": null,
   "metadata": {},
   "outputs": [],
   "source": [
    "class User(object):\n",
    "    \"\"\"A representation of a user in our application.\"\"\"\n",
    "\n",
    "    def __init__(self, username, email):\n",
    "        self.username = username\n",
    "        self.email = email\n",
    "\n",
    "class AnonymousUser(User):\n",
    "    \"\"\"An anonymous user; a stand-in for an actual user that none\n",
    "    theless is not an actual user.\"\"\"\n",
    "    def __init__(self):\n",
    "        self.username = None\n",
    "        self.email = None\n",
    "    \n",
    "    def __nonzero__(self):\n",
    "        return False"
   ]
  },
  {
   "cell_type": "code",
   "execution_count": 34,
   "metadata": {},
   "outputs": [],
   "source": [
    "import functools\n",
    "\n",
    "def requires_user(func):\n",
    "    @functools.wraps(func)\n",
    "    def inner(user, *args, **kwargs):\n",
    "        \"\"\"Verify that the user is truthy;\n",
    "        if so, run the decorated method,\n",
    "        and if not, raise ValueError\"\"\"\n",
    "        # Ensure that user is truthy, and of correct type\n",
    "        # The 'truthy' check will fail on annonymous users, since\n",
    "        # the AnonymousUser subclass has a '__nonzero__' method\n",
    "        # that returns False.\n",
    "        if user and isinstance(user, User):\n",
    "            return func(user, *args, **kwargs)\n",
    "        else:\n",
    "            raise ValueError('A Valid user is required to run this.')\n",
    "    return inner"
   ]
  },
  {
   "cell_type": "code",
   "execution_count": 39,
   "metadata": {},
   "outputs": [],
   "source": [
    "import functools\n",
    "import json\n",
    "\n",
    "def json_output(decorated):\n",
    "    \"\"\"Run the decorated function, serialize the result of that function\n",
    "    to JSON, and return the JSON string.\"\"\"\n",
    "    @functools.wraps(decorated)\n",
    "    def inner(*args, **kwargs):\n",
    "        result = decorated(*args, **kwargs)\n",
    "        return json.dumps(result)\n",
    "    return inner\n"
   ]
  },
  {
   "cell_type": "code",
   "execution_count": 40,
   "metadata": {},
   "outputs": [],
   "source": [
    "@json_output\n",
    "def do_nothing():\n",
    "    return {'status': 'done'}"
   ]
  },
  {
   "cell_type": "code",
   "execution_count": 41,
   "metadata": {},
   "outputs": [
    {
     "output_type": "execute_result",
     "data": {
      "text/plain": "'{\"status\": \"done\"}'"
     },
     "metadata": {},
     "execution_count": 41
    }
   ],
   "source": [
    "do_nothing()\n"
   ]
  },
  {
   "cell_type": "code",
   "execution_count": 42,
   "metadata": {},
   "outputs": [
    {
     "output_type": "execute_result",
     "data": {
      "text/plain": "str"
     },
     "metadata": {},
     "execution_count": 42
    }
   ],
   "source": [
    "emy = do_nothing()\n",
    "type(emy)"
   ]
  },
  {
   "cell_type": "code",
   "execution_count": 44,
   "metadata": {},
   "outputs": [],
   "source": [
    "import functools\n",
    "import json\n",
    "\n",
    "class JSONOutputError(Exception):\n",
    "    def __init__(self, message):\n",
    "        self._message = message\n",
    "\n",
    "    def __str__(self):\n",
    "        return self._message\n",
    "\n",
    "def json_output(decorated):\n",
    "    \"\"\"Run the decorated function, serialise the result of that\n",
    "    function to JSON and return the JSON string.\"\"\"\n",
    "    @functools.wraps(decorated)\n",
    "    def inner(*args, **kwargs):\n",
    "        try:\n",
    "            result = decorated(*args, **kwargs)\n",
    "        except JSONOutputError as ex:\n",
    "            result = {\n",
    "                'status': 'error',\n",
    "                'message': str(ex),\n",
    "            }\n",
    "        return json.dumps(result)\n",
    "    return inner\n",
    "            "
   ]
  },
  {
   "cell_type": "code",
   "execution_count": 45,
   "metadata": {},
   "outputs": [],
   "source": [
    "@json_output\n",
    "def error():\n",
    "    raise JSONOutputError('This function is erratic.')"
   ]
  },
  {
   "cell_type": "code",
   "execution_count": 46,
   "metadata": {},
   "outputs": [
    {
     "output_type": "execute_result",
     "data": {
      "text/plain": "'{\"status\": \"error\", \"message\": \"This function is erratic.\"}'"
     },
     "metadata": {},
     "execution_count": 46
    }
   ],
   "source": [
    "error()"
   ]
  },
  {
   "cell_type": "code",
   "execution_count": 47,
   "metadata": {},
   "outputs": [],
   "source": [
    "@json_output\n",
    "def other_error():\n",
    "    raise ValueError('The grass is always greener...')"
   ]
  },
  {
   "cell_type": "code",
   "execution_count": 48,
   "metadata": {},
   "outputs": [
    {
     "output_type": "error",
     "ename": "ValueError",
     "evalue": "The grass is always greener...",
     "traceback": [
      "\u001b[1;31m---------------------------------------------------------------------------\u001b[0m",
      "\u001b[1;31mValueError\u001b[0m                                Traceback (most recent call last)",
      "\u001b[1;32m<ipython-input-48-67777fe2747c>\u001b[0m in \u001b[0;36m<module>\u001b[1;34m\u001b[0m\n\u001b[1;32m----> 1\u001b[1;33m \u001b[0mother_error\u001b[0m\u001b[1;33m(\u001b[0m\u001b[1;33m)\u001b[0m\u001b[1;33m\u001b[0m\u001b[1;33m\u001b[0m\u001b[0m\n\u001b[0m",
      "\u001b[1;32m<ipython-input-44-bbbd3dcfb918>\u001b[0m in \u001b[0;36minner\u001b[1;34m(*args, **kwargs)\u001b[0m\n\u001b[0;32m     15\u001b[0m     \u001b[1;32mdef\u001b[0m \u001b[0minner\u001b[0m\u001b[1;33m(\u001b[0m\u001b[1;33m*\u001b[0m\u001b[0margs\u001b[0m\u001b[1;33m,\u001b[0m \u001b[1;33m**\u001b[0m\u001b[0mkwargs\u001b[0m\u001b[1;33m)\u001b[0m\u001b[1;33m:\u001b[0m\u001b[1;33m\u001b[0m\u001b[1;33m\u001b[0m\u001b[0m\n\u001b[0;32m     16\u001b[0m         \u001b[1;32mtry\u001b[0m\u001b[1;33m:\u001b[0m\u001b[1;33m\u001b[0m\u001b[1;33m\u001b[0m\u001b[0m\n\u001b[1;32m---> 17\u001b[1;33m             \u001b[0mresult\u001b[0m \u001b[1;33m=\u001b[0m \u001b[0mdecorated\u001b[0m\u001b[1;33m(\u001b[0m\u001b[1;33m*\u001b[0m\u001b[0margs\u001b[0m\u001b[1;33m,\u001b[0m \u001b[1;33m**\u001b[0m\u001b[0mkwargs\u001b[0m\u001b[1;33m)\u001b[0m\u001b[1;33m\u001b[0m\u001b[1;33m\u001b[0m\u001b[0m\n\u001b[0m\u001b[0;32m     18\u001b[0m         \u001b[1;32mexcept\u001b[0m \u001b[0mJSONOutputError\u001b[0m \u001b[1;32mas\u001b[0m \u001b[0mex\u001b[0m\u001b[1;33m:\u001b[0m\u001b[1;33m\u001b[0m\u001b[1;33m\u001b[0m\u001b[0m\n\u001b[0;32m     19\u001b[0m             result = {\n",
      "\u001b[1;32m<ipython-input-47-dbcd496d0eaf>\u001b[0m in \u001b[0;36mother_error\u001b[1;34m()\u001b[0m\n\u001b[0;32m      1\u001b[0m \u001b[1;33m@\u001b[0m\u001b[0mjson_output\u001b[0m\u001b[1;33m\u001b[0m\u001b[1;33m\u001b[0m\u001b[0m\n\u001b[0;32m      2\u001b[0m \u001b[1;32mdef\u001b[0m \u001b[0mother_error\u001b[0m\u001b[1;33m(\u001b[0m\u001b[1;33m)\u001b[0m\u001b[1;33m:\u001b[0m\u001b[1;33m\u001b[0m\u001b[1;33m\u001b[0m\u001b[0m\n\u001b[1;32m----> 3\u001b[1;33m     \u001b[1;32mraise\u001b[0m \u001b[0mValueError\u001b[0m\u001b[1;33m(\u001b[0m\u001b[1;34m'The grass is always greener...'\u001b[0m\u001b[1;33m)\u001b[0m\u001b[1;33m\u001b[0m\u001b[1;33m\u001b[0m\u001b[0m\n\u001b[0m",
      "\u001b[1;31mValueError\u001b[0m: The grass is always greener..."
     ]
    }
   ],
   "source": [
    "other_error()"
   ]
  },
  {
   "cell_type": "code",
   "execution_count": 54,
   "metadata": {},
   "outputs": [],
   "source": [
    "import functools\n",
    "import logging\n",
    "import time\n",
    "\n",
    "def logged(method):\n",
    "    \"\"\"Cause the decorated method to be run and its results logged,\n",
    "    along with some other diagnostic information.\"\"\"\n",
    "    @functools.wraps(method)\n",
    "    def inner(*args, **kwargs):\n",
    "        # Record our start time\n",
    "        start = time.time()\n",
    "\n",
    "        # Run the decorated method\n",
    "        return_value = method(*args, **kwargs)\n",
    "\n",
    "        # Record our completion time, and calculate the delta\n",
    "        end = time.time()\n",
    "        delta = end - start\n",
    "\n",
    "        # Log the method call and the result\n",
    "        logger = logging.getLogger('decorator.logged')\n",
    "        logger.warn('Called method %s at %.02f; execution time %.02f ' \n",
    "        'seconds; result %r.' %\n",
    "        (method.__name__, start, delta, return_value))\n",
    "\n",
    "        # Return the method's original return value.\n",
    "        return return_value\n",
    "    return inner "
   ]
  },
  {
   "cell_type": "code",
   "execution_count": 55,
   "metadata": {},
   "outputs": [],
   "source": [
    "import time\n",
    "@logged\n",
    "def sleep_and_return(return_value):\n",
    "    time.sleep(2)\n",
    "    return return_value\n"
   ]
  },
  {
   "cell_type": "code",
   "execution_count": 56,
   "metadata": {
    "tags": []
   },
   "outputs": [
    {
     "output_type": "stream",
     "name": "stderr",
     "text": "Called method sleep_and_return at 1597771537.33; execution time 2.00 seconds; result 42.\n"
    },
    {
     "output_type": "execute_result",
     "data": {
      "text/plain": "42"
     },
     "metadata": {},
     "execution_count": 56
    }
   ],
   "source": [
    "sleep_and_return(42)"
   ]
  },
  {
   "cell_type": "code",
   "execution_count": 58,
   "metadata": {},
   "outputs": [],
   "source": [
    "import functools\n",
    "import json\n",
    "\n",
    "class JSONOutputError(Exception):\n",
    "    def __init__(self, message):\n",
    "        self.message = message\n",
    "\n",
    "    def __str__(self):\n",
    "        return self.message\n",
    "\n",
    "def json_output(indent=None, sort_keys=False):\n",
    "    \"\"\"Run the decorated function, serialize the result of that function\n",
    "    to JSON, and return the JSON string.\n",
    "    \"\"\"\n",
    "    def actual_decorator(decorated):\n",
    "        @functools.wraps(decorated)\n",
    "        def inner(*args, **kwargs):\n",
    "            try:\n",
    "                result = decorated(*args, **kwargs)\n",
    "            except JSONOutputError as ex:\n",
    "                result = {\n",
    "                    'status': 'error',\n",
    "                    'message': str(ex),\n",
    "                 }\n",
    "            return json.dumps(result, indent=indent, sort_keys=sort_keys)\n",
    "        return inner\n",
    "    return actual_decorator\n"
   ]
  },
  {
   "cell_type": "code",
   "execution_count": 60,
   "metadata": {},
   "outputs": [],
   "source": [
    "@json_output(indent=4)\n",
    "def do_nothing():\n",
    "    return {'status':'done'}"
   ]
  },
  {
   "cell_type": "code",
   "execution_count": 61,
   "metadata": {},
   "outputs": [
    {
     "output_type": "execute_result",
     "data": {
      "text/plain": "'{\\n    \"status\": \"done\"\\n}'"
     },
     "metadata": {},
     "execution_count": 61
    }
   ],
   "source": [
    "do_nothing()"
   ]
  },
  {
   "cell_type": "code",
   "execution_count": 62,
   "metadata": {},
   "outputs": [],
   "source": [
    "import functools\n",
    "import json\n",
    "\n",
    "class JSONOutputError(Exception):\n",
    "    def __init__(self, message):\n",
    "        self._message = message\n",
    "\n",
    "    def __str__(self):\n",
    "        return self._message\n",
    "\n",
    "def json_output(decorated_=None, indent=None, sort_keys=False):\n",
    "    \"\"\"Run the decorated function, serialize the result of that function\n",
    "    to JSON, and return the JSON string.\"\"\"\n",
    "    # Did we get both a decorated method and keyword args?\n",
    "    # That should not happen.\n",
    "    if decorated_ and (indent or sort_keys):\n",
    "        raise RuntimeError('Unexpected arguments.')\n",
    "\n",
    "    # Define the actual decorator function.\n",
    "    def actual_decorator(func):\n",
    "        @functools.wraps(func)\n",
    "        def inner(*args, **kwargs):\n",
    "            try:\n",
    "                result = func(*args, **kwargs)\n",
    "            except JSONOutputError as ex:\n",
    "                result = {\n",
    "                    'status': 'error',\n",
    "                    'message': str(ex),\n",
    "                }\n",
    "            return json.dumps(result, indent=indent, sort_keys=sort_keys)\n",
    "        return inner\n",
    "    # Return either the actual decorator, or the result of applying\n",
    "    # the actual decorator, depending on what arguments we got.\n",
    "    if decorated_:\n",
    "        return actual_decorator(decorated_)\n",
    "    else:\n",
    "        return actual_decorator\n"
   ]
  },
  {
   "cell_type": "code",
   "execution_count": 63,
   "metadata": {},
   "outputs": [],
   "source": [
    "import functools\n",
    "import time\n",
    "\n",
    "def sortable_by_creation_time(cls):\n",
    "    \"\"\"Given a class, augment the class to have its instances be \n",
    "    sortable by the timestamp at which they were instantiated.\"\"\"\n",
    "    # Augment the class 'original '__init__' method to also store a\n",
    "    # '_created_' attribute on the instance, which corresponds to \n",
    "    # when it was instantiated\n",
    "    original_init = cls.__init__\n",
    "\n",
    "    @functools.wraps(original_init)\n",
    "    def new_init(self, *args, **kwargs):\n",
    "        original_init(self, *args, **kwargs)\n",
    "        self._created = time.time()\n",
    "    cls.__init__ = new_init\n",
    "\n",
    "    # Add '__lt__' and '__gt__' methods that return True or False\n",
    "    # based on the created values in question\n",
    "    cls.__lt__ = lambda self, other: self._created < other._created\n",
    "    cls.__gt__ = lambda self, other: self._created > other.created\n",
    "\n",
    "    # Done; return the class object\n",
    "    return cls\n"
   ]
  },
  {
   "cell_type": "code",
   "execution_count": 64,
   "metadata": {},
   "outputs": [],
   "source": [
    "@sortable_by_creation_time\n",
    "class Sortable(object):\n",
    "    def __init__(self, identifier):\n",
    "        self.identifier = identifier\n",
    "\n",
    "    def __repr__(self):\n",
    "        return self.identifier"
   ]
  },
  {
   "cell_type": "code",
   "execution_count": 65,
   "metadata": {},
   "outputs": [],
   "source": [
    "first = Sortable('first')"
   ]
  },
  {
   "cell_type": "code",
   "execution_count": 66,
   "metadata": {},
   "outputs": [],
   "source": [
    "second = Sortable('second')"
   ]
  },
  {
   "cell_type": "code",
   "execution_count": 67,
   "metadata": {},
   "outputs": [],
   "source": [
    "third = Sortable('third')"
   ]
  },
  {
   "cell_type": "code",
   "execution_count": 68,
   "metadata": {},
   "outputs": [],
   "source": [
    "sortables = [second, first, third]"
   ]
  },
  {
   "cell_type": "code",
   "execution_count": 69,
   "metadata": {},
   "outputs": [
    {
     "output_type": "execute_result",
     "data": {
      "text/plain": "[first, second, third]"
     },
     "metadata": {},
     "execution_count": 69
    }
   ],
   "source": [
    "sorted(sortables)"
   ]
  },
  {
   "cell_type": "code",
   "execution_count": 70,
   "metadata": {},
   "outputs": [],
   "source": [
    "import time\n",
    "class SortableByCreationTime(object):\n",
    "    def __init__(self):\n",
    "        self._created = time.time()\n",
    "\n",
    "    def __lt__(self, other):\n",
    "        return self._created < other._created\n",
    "\n",
    "    def __gt__(self, other):\n",
    "        return self._created > other._created"
   ]
  },
  {
   "cell_type": "code",
   "execution_count": 71,
   "metadata": {},
   "outputs": [
    {
     "output_type": "error",
     "ename": "NameError",
     "evalue": "name 'MySuperclass' is not defined",
     "traceback": [
      "\u001b[1;31m---------------------------------------------------------------------------\u001b[0m",
      "\u001b[1;31mNameError\u001b[0m                                 Traceback (most recent call last)",
      "\u001b[1;32m<ipython-input-71-450ddaffae74>\u001b[0m in \u001b[0;36m<module>\u001b[1;34m\u001b[0m\n\u001b[1;32m----> 1\u001b[1;33m \u001b[1;32mclass\u001b[0m \u001b[0mMyClass\u001b[0m\u001b[1;33m(\u001b[0m\u001b[0mMySuperclass\u001b[0m\u001b[1;33m,\u001b[0m \u001b[0mSortableByCreationTime\u001b[0m\u001b[1;33m)\u001b[0m\u001b[1;33m:\u001b[0m\u001b[1;33m\u001b[0m\u001b[1;33m\u001b[0m\u001b[0m\n\u001b[0m\u001b[0;32m      2\u001b[0m     \u001b[1;32mpass\u001b[0m\u001b[1;33m\u001b[0m\u001b[1;33m\u001b[0m\u001b[0m\n",
      "\u001b[1;31mNameError\u001b[0m: name 'MySuperclass' is not defined"
     ]
    }
   ],
   "source": [
    "class MyClass(MySuperclass, SortableByCreationTime):\n",
    "    pass"
   ]
  },
  {
   "cell_type": "code",
   "execution_count": 80,
   "metadata": {},
   "outputs": [],
   "source": [
    "class Task(object):\n",
    "    \"\"\"A trivial task class. Task classes have a 'run': method,\n",
    "    which runs the task.\"\"\"\n",
    "    def __call__(self, *args, **kwargs):\n",
    "        return self.run(*args, **kwargs)\n",
    "\n",
    "    def run(self, *args, **kwargs):\n",
    "        raise NotImplementedError(\"Subclasses must implement 'run'\")\n",
    "\n",
    "    def identify(self):\n",
    "        return 'I am a task.'\n",
    "\n",
    "def task(decorated):\n",
    "    \"\"\"Return a class that runs the given function if its run method is called.\"\"\"\n",
    "    class TaskSubclass(Task):\n",
    "        def run(self, *args, **kwargs):\n",
    "            return decorated(*args, **kwargs)\n",
    "    return TaskSubclass()"
   ]
  },
  {
   "cell_type": "code",
   "execution_count": 81,
   "metadata": {},
   "outputs": [],
   "source": [
    "@task\n",
    "def foo():\n",
    "    return 2 + 2"
   ]
  },
  {
   "cell_type": "code",
   "execution_count": 82,
   "metadata": {},
   "outputs": [],
   "source": [
    "f = foo()"
   ]
  },
  {
   "cell_type": "code",
   "execution_count": 86,
   "metadata": {},
   "outputs": [
    {
     "output_type": "execute_result",
     "data": {
      "text/plain": "4"
     },
     "metadata": {},
     "execution_count": 86
    }
   ],
   "source": [
    "foo.run()"
   ]
  },
  {
   "cell_type": "code",
   "execution_count": 85,
   "metadata": {},
   "outputs": [
    {
     "output_type": "execute_result",
     "data": {
      "text/plain": "'I am a task.'"
     },
     "metadata": {},
     "execution_count": 85
    }
   ],
   "source": [
    "foo.identify()"
   ]
  },
  {
   "cell_type": "code",
   "execution_count": 77,
   "metadata": {},
   "outputs": [],
   "source": [
    "@task\n",
    "def foo():\n",
    "    return 2 + 2"
   ]
  },
  {
   "cell_type": "code",
   "execution_count": 78,
   "metadata": {},
   "outputs": [
    {
     "output_type": "execute_result",
     "data": {
      "text/plain": "<__main__.task.<locals>.TaskSubclass at 0x1e4eecd18c8>"
     },
     "metadata": {},
     "execution_count": 78
    }
   ],
   "source": [
    "foo()"
   ]
  }
 ]
}