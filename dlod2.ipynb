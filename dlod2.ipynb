{
 "cells": [
  {
   "cell_type": "code",
   "execution_count": 2,
   "metadata": {},
   "outputs": [],
   "source": [
    "# Examine each country's name and population only in 2010\n",
    "from pygal.maps.world import World\n",
    "import json\n",
    "from ccountry_codes import get_country_code\n",
    "\n",
    "# Load the data into a list.\n",
    "filename = 'population_json.json'\n",
    "with open(filename) as f:\n",
    "    pop_data = json.load(f)\n",
    "\n",
    "# Print the 2010 population for each country\n",
    "for pop_dict in pop_data:\n",
    "    if pop_dict['Year'] == '2010':\n",
    "        country_name = pop_dict['Country Name']\n",
    "        population = int(float(pop_dict['Value']))\n",
    "        code = get_country_code(country_name)\n",
    "        if code:\n",
    "            print(code + \": \" + str(population))\n",
    "        else:\n",
    "            print('ERROR - ' + country_name)\n"
   ]
  },
  {
   "cell_type": "code",
   "execution_count": 18,
   "metadata": {},
   "outputs": [
    {
     "output_type": "stream",
     "name": "stdout",
     "text": "ad\nae\naf\n"
    }
   ],
   "source": [
    "import pygal\n",
    "from pygal_maps_world.i18n import COUNTRIES\n",
    "\n",
    "def get_country_code(country_name):\n",
    "    \"\"\"Return the Pygal 2-digit country code.\"\"\"\n",
    "    for code, name in COUNTRIES.items():\n",
    "        if name == country_name:\n",
    "            return code\n",
    "    # If the country wasn't found return none\n",
    "    return None\n",
    "\n"
   ]
  },
  {
   "cell_type": "code",
   "execution_count": null,
   "metadata": {},
   "outputs": [],
   "source": [
    "import json\n",
    "from countr"
   ]
  },
  {
   "cell_type": "code",
   "execution_count": null,
   "metadata": {},
   "outputs": [],
   "source": [
    "from pygal.maps.world import World\n",
    "wm = World()\n",
    "wm.title = 'North, Central, and South America'\n",
    "wm.add('North America', ['ca', 'mx', 'us'])\n",
    "wm.add('Central America', ['bz', 'cr', 'gt', 'hn', 'ni', 'pa', 'sv'])\n",
    "wm.add('South America', ['ar', 'bo', 'br', 'cl', 'co', 'ec', 'gf',\n",
    "'gy', 'pe', 'py', 'sr', 'uy', 've'])\n",
    "wm.render_to_file('americas.svg')"
   ]
  },
  {
   "cell_type": "code",
   "execution_count": 9,
   "metadata": {},
   "outputs": [],
   "source": [
    " #Examine each country's name and population only in 2010\n",
    "from pygal.maps.world import World\n",
    "import pygal\n",
    "import json\n",
    "from ccountry_codes import get_country_code\n",
    "\n",
    "# Load the data into a list.\n",
    "filename = 'population_json.json'\n",
    "with open(filename) as f:\n",
    "    pop_data = json.load(f)\n",
    "\n",
    "# Print the 2010 population for each country\n",
    "cc_populations = {}\n",
    "for pop_dict in pop_data:\n",
    "    if pop_dict['Year'] == '2010':\n",
    "        country_name = pop_dict['Country Name']\n",
    "        population = int(float(pop_dict['Value']))\n",
    "        code = get_country_code(country_name)\n",
    "        if code:\n",
    "            cc_populations[code] = population\n",
    "        \n",
    "from pygal.maps.world import World\n",
    "wm = World()\n",
    "wm.title = 'World Populations in 2010, by Country'\n",
    "wm.add('2010', cc_populations)\n",
    "\n",
    "wm.render_to_file('world_population.svg')"
   ]
  },
  {
   "cell_type": "code",
   "execution_count": 8,
   "metadata": {},
   "outputs": [
    {
     "output_type": "execute_result",
     "data": {
      "text/plain": "dict_items([])"
     },
     "metadata": {},
     "execution_count": 8
    }
   ],
   "source": [
    "cc_populations.items()\n"
   ]
  }
 ],
 "metadata": {
  "language_info": {
   "codemirror_mode": {
    "name": "ipython",
    "version": 3
   },
   "file_extension": ".py",
   "mimetype": "text/x-python",
   "name": "python",
   "nbconvert_exporter": "python",
   "pygments_lexer": "ipython3",
   "version": "3.7.4-final"
  },
  "orig_nbformat": 2,
  "kernelspec": {
   "name": "python37464bit3c75b55b43c54202b665176ba7e14120",
   "display_name": "Python 3.7.4 64-bit"
  }
 },
 "nbformat": 4,
 "nbformat_minor": 2
}