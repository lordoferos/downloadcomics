{
 "cells": [
  {
   "cell_type": "code",
   "execution_count": null,
   "metadata": {},
   "outputs": [],
   "source": [
    "# Using a Web API"
   ]
  },
  {
   "cell_type": "code",
   "execution_count": null,
   "metadata": {},
   "outputs": [],
   "source": [
    "pip install --user requests"
   ]
  },
  {
   "cell_type": "code",
   "execution_count": null,
   "metadata": {},
   "outputs": [],
   "source": [
    "# Process an API Response\n",
    "import requests\n",
    "\n",
    "# Make an API call and store the response.\n",
    "url = 'https://api.github.com/search/repositories?q=language:python&sort=stars'\n",
    "r = requests.get(url)\n",
    "print(\"Status code:\" , r.status_code)\n",
    "\n",
    "# Store API in a variable\n",
    "response_dict = r.json()\n",
    "\n",
    "# Process results\n",
    "print(response_dict.keys())"
   ]
  },
  {
   "cell_type": "code",
   "execution_count": null,
   "metadata": {},
   "outputs": [],
   "source": [
    "print(\"Total repositories:\", response_dict['total_count'])\n",
    "# Explore information about repositories\n",
    "repo_dicts = response_dict['items']\n",
    "print(\"Repositories returned:\", len(repo_dicts))\n",
    "\n",
    "# Examine the first repository\n",
    "repo_dict  = repo_dicts[0]\n",
    "print(\"\\nKeys:\", len(repo_dict))\n",
    "for key in sorted(repo_dict.keys()):\n",
    "    print(key)\n"
   ]
  },
  {
   "cell_type": "code",
   "execution_count": null,
   "metadata": {},
   "outputs": [],
   "source": [
    "print(\"\\nSelected information about first repository:\")\n",
    "print('Name:', repo_dict['name'])\n",
    "print('Owner:', repo_dict['owner']['login'])\n",
    "print('Stars:', repo_dict['stargazers_count'])\n",
    "print('Repository:', repo_dict['html_url'])\n",
    "print('Created:',repo_dict['created_at'])\n",
    "print('Updated:',repo_dict['updated_at'])\n",
    "print('Description:', repo_dict['description'])"
   ]
  },
  {
   "cell_type": "code",
   "execution_count": null,
   "metadata": {},
   "outputs": [],
   "source": [
    "# Summarizing the top repositories\n",
    "print(\"\\nSelected information about each repository:\")\n",
    "for repo_dict in repo_dicts:\n",
    "    print(\"\\nName:\" , repo_dict['name'])\n",
    "    print(\"Owner:\", repo_dict['owner']['login'])\n",
    "    print(\"Stars:\", repo_dict['stargazers_count'])\n",
    "    print('Repository:', repo_dict['html_url'])\n",
    "    print('Description:', repo_dict['description'])"
   ]
  },
  {
   "cell_type": "code",
   "execution_count": null,
   "metadata": {},
   "outputs": [],
   "source": [
    "import json\n",
    "filename = []\n",
    "for repo_dict in repo_dicts:\n",
    "    name = (\"\\nName:\" , repo_dict['name']) \n",
    "    owner = (\"Owner:\", repo_dict['owner']['login'])  \n",
    "    stars = (\"Stars:\", repo_dict['stargazers_count']) \n",
    "    rep = ('Repository:', repo_dict['html_url'])  \n",
    "    descr = ('Description:', repo_dict['description'])\n",
    "    filename.append(name)\n",
    "    filename.append(owner)\n",
    "    filename.append(stars)\n",
    "    filename.append(rep)\n",
    "    filename.append(descr)\n",
    "\n",
    "my_list = 'sites.json'\n",
    "with open(my_list,'w') as f:\n",
    "    json.dump(filename,f)\n",
    "\n",
    "    "
   ]
  },
  {
   "cell_type": "code",
   "execution_count": null,
   "metadata": {},
   "outputs": [],
   "source": [
    "import pygal\n",
    "from pygal.style import LightColorizedStyle as LCS, LightenStyle as LS \n",
    "\n",
    "names, stars = [], []\n",
    "for repo_dict in repo_dicts:\n",
    "    names.append(repo_dict['name'])\n",
    "    stars.append(repo_dict['stargazers_count'])\n",
    "\n",
    "# Make visualization\n",
    "my_style = LS('#333366', base_style=LCS)\n",
    "chart = pygal.Bar(style=my_style, x_label_rotation = 45, show_legend=False)\n",
    "chart.title = 'Most-Starred Python Projects on Github as at May 2020'\n",
    "chart.x_labels = names\n",
    "\n",
    "chart.add('',stars)\n",
    "chart.render_to_file('python_repos.svg')"
   ]
  },
  {
   "cell_type": "code",
   "execution_count": null,
   "metadata": {},
   "outputs": [],
   "source": []
  },
  {
   "cell_type": "code",
   "execution_count": null,
   "metadata": {},
   "outputs": [],
   "source": [
    "import pygal\n",
    "from pygal.style import LightColorizedStyle as LCS, LightenStyle as LS \n",
    "# Process an API Response\n",
    "import requests\n",
    "\n",
    "# Make an API call and store the response.\n",
    "url = 'https://api.github.com/search/repositories?q=language:python&sort=stars'\n",
    "r = requests.get(url)\n",
    "print(\"Status code:\" , r.status_code)\n",
    "\n",
    "# Store API in a variable\n",
    "response_dict = r.json()\n",
    "\n",
    "# Explore information about repositories\n",
    "repo_dicts = response_dict['items']\n",
    "print(\"Repositories returned:\", len(repo_dicts))\n",
    "\n",
    "\n",
    "names, plot_dicts = [], []\n",
    "for repo_dict in repo_dicts:\n",
    "    if repo_dict['name'] is None:\n",
    "        names.append('') # Empty string\n",
    "    else:\n",
    "        names.append(repo_dict['name'])\n",
    "\n",
    "    plot_dict = {\n",
    "        'value': repo_dict['stargazers_count'],\n",
    "        'xlink': repo_dict['html_url']}\n",
    "    if repo_dict['description'] is not None:\n",
    "        plot_dict['label'] = repo_dict['description']\n",
    "    \n",
    "\n",
    "    plot_dicts.append(plot_dict)\n",
    "\n",
    "# Make visualization\n",
    "my_style = LS('#333366', base_style=LCS)\n",
    "\n",
    "my_config = pygal.Config()\n",
    "my_config.x_label_rotation = 45\n",
    "my_config.show_legend = False\n",
    "my_config.title_font_size = 24\n",
    "my_config.label_font_size = 14\n",
    "my_config.major_label_font_size = 18\n",
    "my_config.truncate_label = 15\n",
    "my_config.show_y_guides = False\n",
    "my_config.width = 1000\n",
    "\n",
    "chart = pygal.Bar(my_config, style=my_style)\n",
    "chart.title = 'Most-Starred Python Projects on Github as at May 2020'\n",
    "chart.x_labels = names\n",
    "\n",
    "\n",
    "chart.add('', plot_dicts)\n",
    "\n",
    "chart.render_to_file('orero.svg')"
   ]
  },
  {
   "cell_type": "code",
   "execution_count": null,
   "metadata": {},
   "outputs": [],
   "source": [
    "plot_dicts\n"
   ]
  },
  {
   "cell_type": "code",
   "execution_count": 13,
   "metadata": {},
   "outputs": [
    {
     "output_type": "stream",
     "name": "stdout",
     "text": "Status code: 200\n200\n200\n200\n200\n200\n200\n200\n200\n200\n200\n200\n200\n200\n200\n200\n200\n200\n200\n200\n200\n200\n200\n200\n200\n200\n200\n200\n200\n200\n200\n\nTitle: SpaceX successfully launches two humans into orbit\nDiscussion link: http://news.ycombinator.com/item?id=23361987\nComments: 675\n\nTitle: Zero-day in Sign in with Apple\nDiscussion link: http://news.ycombinator.com/item?id=23362149\nComments: 247\n\nTitle: Ask HN: Am I the longest-serving programmer – 57 years and counting?\nDiscussion link: http://news.ycombinator.com/item?id=23366546\nComments: 226\n\nTitle: Nukemap\nDiscussion link: http://news.ycombinator.com/item?id=23365823\nComments: 58\n\nTitle: Google Gave Away Our Business Listing to a Competitor, Our Fight to Get It Back\nDiscussion link: http://news.ycombinator.com/item?id=23367166\nComments: 53\n\nTitle: Show HN: I made a simple PDF text editor\nDiscussion link: http://news.ycombinator.com/item?id=23366532\nComments: 51\n\nTitle: UK government MPs are using Signal’s automatic deletion feature\nDiscussion link: http://news.ycombinator.com/item?id=23368346\nComments: 47\n\nTitle: Unity MMORPG Boilerplate - Multiplayer in Unity Made Easy\nDiscussion link: http://news.ycombinator.com/item?id=23367144\nComments: 43\n\nTitle: Dragon capsule runs on Linux, C++, Chromium UIs\nDiscussion link: http://news.ycombinator.com/item?id=23368109\nComments: 37\n\nTitle: Finding secrets by decompiling Python bytecode in public repositories\nDiscussion link: http://news.ycombinator.com/item?id=23366555\nComments: 36\n\nTitle: Making a SNES game in 2020 using modern tools\nDiscussion link: http://news.ycombinator.com/item?id=23366208\nComments: 31\n\nTitle: How to Safely and Ethically Film Police Misconduct\nDiscussion link: http://news.ycombinator.com/item?id=23367983\nComments: 31\n\nTitle: Stripe's remote engineering hub, one year in\nDiscussion link: http://news.ycombinator.com/item?id=23341101\nComments: 27\n\nTitle: The Unix Operating System (1982) [video]\nDiscussion link: http://news.ycombinator.com/item?id=23343753\nComments: 26\n\nTitle: My Messy Analytics Breakup\nDiscussion link: http://news.ycombinator.com/item?id=23351323\nComments: 22\n\nTitle: Show HN: Go Micro – A distributed systems development framework\nDiscussion link: http://news.ycombinator.com/item?id=23368451\nComments: 18\n\nTitle: Show HN: Caldera – Phoenix LiveView for Node and React\nDiscussion link: http://news.ycombinator.com/item?id=23363250\nComments: 15\n\nTitle: Beekeeper Studio is a free and open source SQL editor and database manager\nDiscussion link: http://news.ycombinator.com/item?id=23366549\nComments: 15\n\nTitle: A more efficient matching engine for HTTPS Everywhere\nDiscussion link: http://news.ycombinator.com/item?id=23366858\nComments: 14\n\nTitle: Why Artificial Brains Need Sleep\nDiscussion link: http://news.ycombinator.com/item?id=23366516\nComments: 13\n\nTitle: Featherweight Go\nDiscussion link: http://news.ycombinator.com/item?id=23368453\nComments: 12\n\nTitle: In marginal decisions, favour action over inaction\nDiscussion link: http://news.ycombinator.com/item?id=23368094\nComments: 9\n\nTitle: I wrote a beginners guide to Kubernetes\nDiscussion link: http://news.ycombinator.com/item?id=23365573\nComments: 9\n\nTitle: Bootable minesweeper game in a 512-byte boot sector\nDiscussion link: http://news.ycombinator.com/item?id=23360133\nComments: 8\n\nTitle: Show HN: Open GIF Search\nDiscussion link: http://news.ycombinator.com/item?id=23362769\nComments: 8\n\nTitle: The Myers diff algorithm that is used in Git (2017)\nDiscussion link: http://news.ycombinator.com/item?id=23360223\nComments: 7\n\nTitle: Detecting a 2.4 GHz transmission for under 1 EUR\nDiscussion link: http://news.ycombinator.com/item?id=23368512\nComments: 6\n\nTitle: How to write an Amstrad CPC emulator\nDiscussion link: http://news.ycombinator.com/item?id=23359190\nComments: 4\n\nTitle: Show HN: Findyour.blog – Get your blog rated and reviewed by authors/readers\nDiscussion link: http://news.ycombinator.com/item?id=23367830\nComments: 0\n\nTitle: WebTorrent Workshop\nDiscussion link: http://news.ycombinator.com/item?id=23367877\nComments: 0\n"
    }
   ],
   "source": [
    "import requests\n",
    "\n",
    "from operator import itemgetter\n",
    "\n",
    "# Make an API call and store the response\n",
    "url = 'https://hacker-news.firebaseio.com/v0/topstories.json'\n",
    "r = requests.get(url)\n",
    "print(\"Status code:\" , r.status_code)\n",
    "\n",
    "# Process info about each submission\n",
    "submission_ids = r.json()\n",
    "submission_dicts = []\n",
    "for submission_id in submission_ids[:30]:\n",
    "    # Make a separate API call for each submission\n",
    "    url = ('https://hacker-news.firebaseio.com/v0/item/' + str(submission_id) + '.json')\n",
    "    submission_r = requests.get(url)\n",
    "    print(submission_r.status_code)\n",
    "    response_dict = submission_r.json()\n",
    "\n",
    "    submission_dict = {\n",
    "        'title': response_dict['title'],\n",
    "        'link': 'http://news.ycombinator.com/item?id=' + str(submission_id),\n",
    "        'comments': response_dict.get('descendants',0)\n",
    "        }\n",
    "    submission_dicts.append(submission_dict)\n",
    "\n",
    "submission_dicts = sorted(submission_dicts, key=itemgetter('comments'),reverse=True)\n",
    "\n",
    "for submission_dict in submission_dicts:\n",
    "    print(\"\\nTitle:\", submission_dict['title'])\n",
    "    print(\"Discussion link:\", submission_dict['link'])\n",
    "    print(\"Comments:\", submission_dict['comments'])"
   ]
  },
  {
   "cell_type": "code",
   "execution_count": 20,
   "metadata": {},
   "outputs": [],
   "source": []
  },
  {
   "cell_type": "code",
   "execution_count": 21,
   "metadata": {},
   "outputs": [
    {
     "output_type": "execute_result",
     "data": {
      "text/plain": "'c:\\\\Users\\\\LORERO\\\\BPPD\\\\downloading_data'"
     },
     "metadata": {},
     "execution_count": 21
    }
   ],
   "source": [
    "cwd"
   ]
  }
 ],
 "metadata": {
  "language_info": {
   "codemirror_mode": {
    "name": "ipython",
    "version": 3
   },
   "file_extension": ".py",
   "mimetype": "text/x-python",
   "name": "python",
   "nbconvert_exporter": "python",
   "pygments_lexer": "ipython3",
   "version": "3.7.4-final"
  },
  "orig_nbformat": 2,
  "kernelspec": {
   "name": "python37464bit3c75b55b43c54202b665176ba7e14120",
   "display_name": "Python 3.7.4 64-bit"
  }
 },
 "nbformat": 4,
 "nbformat_minor": 2
}